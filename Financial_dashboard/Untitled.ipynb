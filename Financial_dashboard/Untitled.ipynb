{
 "cells": [
  {
   "cell_type": "code",
   "execution_count": null,
   "id": "6a8f1d6e-ba76-47bd-a436-3df52bbc6bd2",
   "metadata": {},
   "outputs": [],
   "source": [
    "import numpy as np"
   ]
  },
  {
   "cell_type": "code",
   "execution_count": null,
   "id": "7a125812-f1f6-4f64-9b09-68f67f94cf4e",
   "metadata": {},
   "outputs": [],
   "source": [
    "import pandas as pd"
   ]
  },
  {
   "cell_type": "code",
   "execution_count": null,
   "id": "eb20083e-be1f-48ff-9e25-71312425baa3",
   "metadata": {},
   "outputs": [],
   "source": [
    "df = pd.read_csv('Financial_data.csv')"
   ]
  },
  {
   "cell_type": "code",
   "execution_count": null,
   "id": "33c9d396-eebe-4a62-afa8-f32bd646dbdd",
   "metadata": {},
   "outputs": [],
   "source": [
    "df"
   ]
  },
  {
   "cell_type": "code",
   "execution_count": null,
   "id": "4e7892e4-14eb-42f8-a072-93e3c1080cff",
   "metadata": {},
   "outputs": [],
   "source": [
    "import pandas as pd\n",
    "\n",
    "# Load the dirty dataset\n",
    "file_path_dirty = \"Financial_data.csv\"  # Replace with your actual path\n",
    "df = pd.read_csv(file_path_dirty)\n",
    "\n",
    "# Handle missing values (e.g., fill with median or remove)\n",
    "df['Amount'] = df['Amount'].fillna(df['Amount'].median())\n",
    "\n",
    "# Remove duplicates\n",
    "df = df.drop_duplicates()\n",
    "\n",
    "# Standardize date formats\n",
    "df['Date'] = pd.to_datetime(df['Date'], errors='coerce')\n",
    "\n",
    "# Fix outliers (e.g., capping them at a threshold)\n",
    "upper_limit = df['Amount'].quantile(0.99)  # Cap at 99th percentile\n",
    "df['Amount'] = df['Amount'].clip(upper=upper_limit)\n",
    "\n",
    "# Validate categorical values\n",
    "valid_categories = [\"Product Sales\", \"Service Fees\", \"Office Rent\", \"Marketing\", \"Salaries\", \"Utilities\", \"Software Licenses\"]\n",
    "df['Category'] = df['Category'].where(df['Category'].isin(valid_categories), 'Other')\n",
    "df"
   ]
  },
  {
   "cell_type": "code",
   "execution_count": null,
   "id": "b1e5ace0-3379-41a2-bd1d-adda4dfba71d",
   "metadata": {},
   "outputs": [],
   "source": [
    "# Calculate total revenue and expenses\n",
    "revenue = df[df['Type'] == 'Revenue']['Amount'].sum()\n",
    "expenses = df[df['Type'] == 'Expense']['Amount'].sum()\n",
    "net_profit = revenue - expenses\n",
    "\n",
    "# Monthly trends\n",
    "df['Month'] = df['Date'].dt.to_period('M')\n",
    "monthly_summary = df.groupby(['Month', 'Type'])['Amount'].sum().unstack()\n",
    "\n",
    "# Category-wise breakdown\n",
    "category_summary = df.groupby(['Category', 'Type'])['Amount'].sum().unstack()\n",
    "\n",
    "net_profit\n"
   ]
  },
  {
   "cell_type": "code",
   "execution_count": null,
   "id": "24e5f349-919c-4621-9e4d-95d227c87154",
   "metadata": {},
   "outputs": [],
   "source": [
    "import matplotlib.pyplot as plt\n",
    "import seaborn as sns\n",
    "\n",
    "# Monthly trends visualization\n",
    "monthly_summary.plot(kind='bar', figsize=(12, 6), title=\"Monthly Revenue and Expenses\")\n",
    "plt.ylabel(\"Amount\")\n",
    "plt.show()\n",
    "\n",
    "# Category-wise breakdown\n",
    "category_summary.plot(kind='bar', stacked=True, figsize=(12, 6), title=\"Category-wise Revenue and Expenses\")\n",
    "plt.ylabel(\"Amount\")\n",
    "plt.show()\n",
    "\n",
    "# Net Profit/Loss\n",
    "labels = ['Revenue', 'Expenses']\n",
    "sizes = [revenue, expenses]\n",
    "colors = ['#66b3ff', '#ff9999']\n",
    "plt.pie(sizes, labels=labels, colors=colors, autopct='%1.1f%%', startangle=140)\n",
    "plt.title(\"Revenue vs Expenses\")\n",
    "plt.show()\n"
   ]
  },
  {
   "cell_type": "code",
   "execution_count": null,
   "id": "1f3373c2-bc4f-43ca-ac68-4873652076ce",
   "metadata": {},
   "outputs": [],
   "source": []
  }
 ],
 "metadata": {
  "kernelspec": {
   "display_name": "Python 3 (ipykernel)",
   "language": "python",
   "name": "python3"
  },
  "language_info": {
   "codemirror_mode": {
    "name": "ipython",
    "version": 3
   },
   "file_extension": ".py",
   "mimetype": "text/x-python",
   "name": "python",
   "nbconvert_exporter": "python",
   "pygments_lexer": "ipython3",
   "version": "3.13.0"
  }
 },
 "nbformat": 4,
 "nbformat_minor": 5
}
